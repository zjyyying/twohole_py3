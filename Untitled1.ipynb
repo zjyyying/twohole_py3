{
 "cells": [
  {
   "cell_type": "code",
   "execution_count": 1,
   "id": "9dba80ae",
   "metadata": {},
   "outputs": [
    {
     "name": "stdout",
     "output_type": "stream",
     "text": [
      "Ni_orbs =  ['d3z2r2', 'dx2y2', 'dxy', 'dxz', 'dyz']\n",
      "O1_orbs =  ['px1', 'py1']\n",
      "O2_orbs =  ['px2', 'py2']\n",
      "compute A(w) for symmetries =  ['1A1', '1B1', '3B1', '1A2', '3A2', '1E', '3E']\n"
     ]
    }
   ],
   "source": [
    "%run hamiltonian.py\n"
   ]
  },
  {
   "cell_type": "code",
   "execution_count": null,
   "id": "35cd65d3",
   "metadata": {},
   "outputs": [],
   "source": []
  }
 ],
 "metadata": {
  "kernelspec": {
   "display_name": "Python 3 (ipykernel)",
   "language": "python",
   "name": "python3"
  },
  "language_info": {
   "codemirror_mode": {
    "name": "ipython",
    "version": 3
   },
   "file_extension": ".py",
   "mimetype": "text/x-python",
   "name": "python",
   "nbconvert_exporter": "python",
   "pygments_lexer": "ipython3",
   "version": "3.9.13"
  }
 },
 "nbformat": 4,
 "nbformat_minor": 5
}
