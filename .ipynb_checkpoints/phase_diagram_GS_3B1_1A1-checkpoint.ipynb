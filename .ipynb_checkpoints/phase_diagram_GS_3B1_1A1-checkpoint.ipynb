{
 "cells": [
  {
   "cell_type": "code",
   "execution_count": 1,
   "metadata": {},
   "outputs": [
    {
     "name": "stdout",
     "output_type": "stream",
     "text": [
      "Populating the interactive namespace from numpy and matplotlib\n"
     ]
    },
    {
     "data": {
      "image/png": "[encoded data removed]",
      "text/plain": [
       "<matplotlib.figure.Figure at 0x7fc5242561d0>"
      ]
     },
     "metadata": {},
     "output_type": "display_data"
    }
   ],
   "source": [
    "%pylab inline\n",
    "\n",
    "import math\n",
    "import numpy as np\n",
    "from scipy.sparse.linalg import inv\n",
    "#from numpy.linalg import inv\n",
    "import scipy.sparse as sps\n",
    "import scipy.sparse.linalg\n",
    "import sys\n",
    "import matplotlib.pyplot as plt\n",
    "sys.path.append('../../src/')\n",
    "from pylab import *\n",
    "from matplotlib.patches import Ellipse\n",
    "\n",
    "ed = 0\n",
    "tpds = [1.3, 1.5, 1.7]#, 1.5, 1.6, 1.7]\n",
    "tpp = 0.55\n",
    "\n",
    "vals = [1.5]\n",
    "tpds = np.asarray(vals)*2./np.sqrt(3)\n",
    "#pds = 0.00001\n",
    "#pdp = 0.00001\n",
    "pps = 0.9\n",
    "ppp = 0.2\n",
    "\n",
    "B = 0.15\n",
    "C = 0.58\n",
    "Upp = 0\n",
    "\n",
    "Mc = 10\n",
    "eta = 0.1\n",
    "Ms = ['bo-','rs-','g^-','mv-','c<-','kp-','yh-','bo--','rs--','g^--','mv--','c<--','y>--','kp--']\n",
    "\n",
    "####################################################################\n",
    "# plot Norb=7 phase diagram for comparison\n",
    "####################################################################\n",
    "#titlename = 'tpp'+str(tpp)+'_B'+str(B)+'_C'+str(C)+'_Upp'+str(Upp)+'_Mc'+str(Mc7)   \n",
    "\n",
    "fig, ax = plt.subplots()\n",
    "\n",
    "for i in range(0,len(vals)):\n",
    "    val = vals[i]\n",
    "    \n",
    "    ff = 'Norb11_critical_Delta_GS_tval'+str(val)+'_pps'+str(pps)+'_ppp'+str(ppp) \\\n",
    "         +'_B'+str(B)+'_C'+str(C)+'_Upp'+str(Upp)+'_Mc'+str(Mc)+'_eta'+str(eta)+'.txt'\n",
    "    a = loadtxt('./data_phase_diagram/'+ff,skiprows=2)\n",
    "    plot(a[:,0], a[:,1], 'g^-', label=r'$t_{pd\\sigma}=1.5$')\n",
    "\n",
    "# below for plotting ellipse\n",
    "ell = Ellipse(xy=[6,8], width=1, height=2, angle=0, edgecolor='k', lw=0, facecolor='k', alpha=0.5)\n",
    "ax.add_artist(ell)\n",
    "\n",
    "#fill_between(2.*a[4:11,0], c[4:11,1]-ep, a[4:11,1]-ep,color='b')\n",
    "#fill_between(6, 7, 9, color='r')\n",
    "\n",
    "#title('Norb7_'+titlename, fontsize=14)\n",
    "xlabel('$A$',fontsize=19)\n",
    "ylabel('$\\Delta$',fontsize=19)\n",
    "xlim([0,8])\n",
    "ylim([0,15])\n",
    "xticks(fontsize=14)\n",
    "yticks(fontsize=14)\n",
    "text(3,5, '$^1A_1$', fontsize=20)\n",
    "text(2, 11, '$^3E$', fontsize=20)\n",
    "#grid('on',linestyle=\"--\", linewidth=0.5, color='black', alpha=0.5)\n",
    "legend(loc=2, fontsize=11, framealpha=1.0, edgecolor='black')\n",
    "plt.tight_layout()\n",
    "savefig(\"phase_diagram.pdf\")"
   ]
  },
  {
   "cell_type": "code",
   "execution_count": null,
   "metadata": {
    "collapsed": true
   },
   "outputs": [],
   "source": []
  }
 ],
 "metadata": {
  "kernelspec": {
   "display_name": "Python 2",
   "language": "python",
   "name": "python2"
  },
  "language_info": {
   "codemirror_mode": {
    "name": "ipython",
    "version": 2
   },
   "file_extension": ".py",
   "mimetype": "text/x-python",
   "name": "python",
   "nbconvert_exporter": "python",
   "pygments_lexer": "ipython2",
   "version": "2.7.14"
  }
 },
 "nbformat": 4,
 "nbformat_minor": 1
}
